{
 "cells": [
  {
   "cell_type": "code",
   "execution_count": 16,
   "metadata": {},
   "outputs": [],
   "source": [
    "import numpy as np\n",
    "import pandas as pd\n",
    "\n",
    "import matplotlib.pyplot as plt\n",
    "import plotly.graph_objects as go"
   ]
  },
  {
   "cell_type": "code",
   "execution_count": 17,
   "metadata": {},
   "outputs": [
    {
     "data": {
      "text/html": [
       "<div>\n",
       "<style scoped>\n",
       "    .dataframe tbody tr th:only-of-type {\n",
       "        vertical-align: middle;\n",
       "    }\n",
       "\n",
       "    .dataframe tbody tr th {\n",
       "        vertical-align: top;\n",
       "    }\n",
       "\n",
       "    .dataframe thead th {\n",
       "        text-align: right;\n",
       "    }\n",
       "</style>\n",
       "<table border=\"1\" class=\"dataframe\">\n",
       "  <thead>\n",
       "    <tr style=\"text-align: right;\">\n",
       "      <th></th>\n",
       "      <th>Date</th>\n",
       "      <th>Open</th>\n",
       "      <th>Close</th>\n",
       "      <th>High</th>\n",
       "      <th>Low</th>\n",
       "      <th>Volume</th>\n",
       "    </tr>\n",
       "  </thead>\n",
       "  <tbody>\n",
       "    <tr>\n",
       "      <th>0</th>\n",
       "      <td>2020-03-31 13:06:06</td>\n",
       "      <td>259.50</td>\n",
       "      <td>259.50</td>\n",
       "      <td>259.50</td>\n",
       "      <td>259.50</td>\n",
       "      <td>0</td>\n",
       "    </tr>\n",
       "    <tr>\n",
       "      <th>1</th>\n",
       "      <td>2020-03-31 13:06:00</td>\n",
       "      <td>259.33</td>\n",
       "      <td>259.39</td>\n",
       "      <td>259.59</td>\n",
       "      <td>259.01</td>\n",
       "      <td>443733</td>\n",
       "    </tr>\n",
       "    <tr>\n",
       "      <th>2</th>\n",
       "      <td>2020-03-31 13:05:00</td>\n",
       "      <td>259.33</td>\n",
       "      <td>259.39</td>\n",
       "      <td>259.59</td>\n",
       "      <td>259.01</td>\n",
       "      <td>443733</td>\n",
       "    </tr>\n",
       "    <tr>\n",
       "      <th>3</th>\n",
       "      <td>2020-03-31 13:04:00</td>\n",
       "      <td>259.72</td>\n",
       "      <td>259.33</td>\n",
       "      <td>259.89</td>\n",
       "      <td>259.33</td>\n",
       "      <td>961884</td>\n",
       "    </tr>\n",
       "    <tr>\n",
       "      <th>4</th>\n",
       "      <td>2020-03-31 13:03:00</td>\n",
       "      <td>260.04</td>\n",
       "      <td>259.72</td>\n",
       "      <td>260.06</td>\n",
       "      <td>259.72</td>\n",
       "      <td>194643</td>\n",
       "    </tr>\n",
       "    <tr>\n",
       "      <th>...</th>\n",
       "      <td>...</td>\n",
       "      <td>...</td>\n",
       "      <td>...</td>\n",
       "      <td>...</td>\n",
       "      <td>...</td>\n",
       "      <td>...</td>\n",
       "    </tr>\n",
       "    <tr>\n",
       "      <th>213</th>\n",
       "      <td>2020-03-31 09:34:00</td>\n",
       "      <td>260.08</td>\n",
       "      <td>260.30</td>\n",
       "      <td>260.88</td>\n",
       "      <td>260.02</td>\n",
       "      <td>706784</td>\n",
       "    </tr>\n",
       "    <tr>\n",
       "      <th>214</th>\n",
       "      <td>2020-03-31 09:33:00</td>\n",
       "      <td>260.38</td>\n",
       "      <td>260.09</td>\n",
       "      <td>260.43</td>\n",
       "      <td>259.72</td>\n",
       "      <td>587874</td>\n",
       "    </tr>\n",
       "    <tr>\n",
       "      <th>215</th>\n",
       "      <td>2020-03-31 09:32:00</td>\n",
       "      <td>260.44</td>\n",
       "      <td>260.36</td>\n",
       "      <td>260.92</td>\n",
       "      <td>260.15</td>\n",
       "      <td>706999</td>\n",
       "    </tr>\n",
       "    <tr>\n",
       "      <th>216</th>\n",
       "      <td>2020-03-31 09:31:00</td>\n",
       "      <td>260.29</td>\n",
       "      <td>260.43</td>\n",
       "      <td>260.45</td>\n",
       "      <td>259.87</td>\n",
       "      <td>523999</td>\n",
       "    </tr>\n",
       "    <tr>\n",
       "      <th>217</th>\n",
       "      <td>2020-03-31 09:30:00</td>\n",
       "      <td>260.29</td>\n",
       "      <td>260.29</td>\n",
       "      <td>260.29</td>\n",
       "      <td>260.29</td>\n",
       "      <td>6839744</td>\n",
       "    </tr>\n",
       "  </tbody>\n",
       "</table>\n",
       "<p>218 rows × 6 columns</p>\n",
       "</div>"
      ],
      "text/plain": [
       "                    Date    Open   Close    High     Low   Volume\n",
       "0    2020-03-31 13:06:06  259.50  259.50  259.50  259.50        0\n",
       "1    2020-03-31 13:06:00  259.33  259.39  259.59  259.01   443733\n",
       "2    2020-03-31 13:05:00  259.33  259.39  259.59  259.01   443733\n",
       "3    2020-03-31 13:04:00  259.72  259.33  259.89  259.33   961884\n",
       "4    2020-03-31 13:03:00  260.04  259.72  260.06  259.72   194643\n",
       "..                   ...     ...     ...     ...     ...      ...\n",
       "213  2020-03-31 09:34:00  260.08  260.30  260.88  260.02   706784\n",
       "214  2020-03-31 09:33:00  260.38  260.09  260.43  259.72   587874\n",
       "215  2020-03-31 09:32:00  260.44  260.36  260.92  260.15   706999\n",
       "216  2020-03-31 09:31:00  260.29  260.43  260.45  259.87   523999\n",
       "217  2020-03-31 09:30:00  260.29  260.29  260.29  260.29  6839744\n",
       "\n",
       "[218 rows x 6 columns]"
      ]
     },
     "execution_count": 17,
     "metadata": {},
     "output_type": "execute_result"
    }
   ],
   "source": [
    "df = pd.read_csv(\"SPY_2020-03-31_minute.csv\")\n",
    "# df = df.iloc[::-1]\n",
    "df"
   ]
  },
  {
   "cell_type": "code",
   "execution_count": 29,
   "metadata": {},
   "outputs": [],
   "source": [
    "maxidx = df.Close.idxmax()\n",
    "minidx = df.Close.idxmax()\n",
    "\n",
    "maxval = df.Close.max()\n",
    "minval = df.Close.min()"
   ]
  },
  {
   "cell_type": "code",
   "execution_count": 30,
   "metadata": {},
   "outputs": [
    {
     "data": {
      "text/plain": [
       "(94, 263.19)"
      ]
     },
     "execution_count": 30,
     "metadata": {},
     "output_type": "execute_result"
    }
   ],
   "source": [
    "maxidx, maxval"
   ]
  },
  {
   "cell_type": "code",
   "execution_count": 27,
   "metadata": {},
   "outputs": [
    {
     "data": {
      "text/plain": [
       "Date      2020-03-31 11:33:00\n",
       "Open                    262.9\n",
       "Close                  263.19\n",
       "High                    263.2\n",
       "Low                     262.8\n",
       "Volume                 487123\n",
       "Name: 94, dtype: object"
      ]
     },
     "execution_count": 27,
     "metadata": {},
     "output_type": "execute_result"
    }
   ],
   "source": [
    "df.iloc[94]"
   ]
  },
  {
   "cell_type": "code",
   "execution_count": null,
   "metadata": {},
   "outputs": [],
   "source": []
  }
 ],
 "metadata": {
  "kernelspec": {
   "display_name": "Python 3",
   "language": "python",
   "name": "python3"
  },
  "language_info": {
   "codemirror_mode": {
    "name": "ipython",
    "version": 3
   },
   "file_extension": ".py",
   "mimetype": "text/x-python",
   "name": "python",
   "nbconvert_exporter": "python",
   "pygments_lexer": "ipython3",
   "version": "3.7.3"
  }
 },
 "nbformat": 4,
 "nbformat_minor": 4
}

{
 "cells": [
  {
   "cell_type": "code",
   "execution_count": 1,
   "metadata": {},
   "outputs": [],
   "source": [
    "import tensorflow as tf\n",
    "from tensorflow import keras\n",
    "\n",
    "# Helper libraries\n",
    "import numpy as np\n",
    "import matplotlib.pyplot as plt\n",
    "\n",
    "import pandas as pd\n",
    "import psutil\n",
    "import plotly.graph_objects as go\n"
   ]
  },
  {
   "cell_type": "code",
   "execution_count": 2,
   "metadata": {},
   "outputs": [],
   "source": [
    "%load_ext autoreload\n",
    "%autoreload 2\n"
   ]
  },
  {
   "cell_type": "code",
   "execution_count": 3,
   "metadata": {},
   "outputs": [],
   "source": [
    "stonks = pd.read_csv(\"stonks.csv\")"
   ]
  },
  {
   "cell_type": "code",
   "execution_count": 4,
   "metadata": {},
   "outputs": [
    {
     "data": {
      "text/html": [
       "<div>\n",
       "<style scoped>\n",
       "    .dataframe tbody tr th:only-of-type {\n",
       "        vertical-align: middle;\n",
       "    }\n",
       "\n",
       "    .dataframe tbody tr th {\n",
       "        vertical-align: top;\n",
       "    }\n",
       "\n",
       "    .dataframe thead th {\n",
       "        text-align: right;\n",
       "    }\n",
       "</style>\n",
       "<table border=\"1\" class=\"dataframe\">\n",
       "  <thead>\n",
       "    <tr style=\"text-align: right;\">\n",
       "      <th></th>\n",
       "      <th>timestamp</th>\n",
       "      <th>open</th>\n",
       "      <th>high</th>\n",
       "      <th>low</th>\n",
       "      <th>close</th>\n",
       "      <th>volume</th>\n",
       "    </tr>\n",
       "  </thead>\n",
       "  <tbody>\n",
       "    <tr>\n",
       "      <th>5031</th>\n",
       "      <td>2000-03-29</td>\n",
       "      <td>151.5625</td>\n",
       "      <td>152.4843</td>\n",
       "      <td>149.6562</td>\n",
       "      <td>151.2187</td>\n",
       "      <td>6747500</td>\n",
       "    </tr>\n",
       "    <tr>\n",
       "      <th>5030</th>\n",
       "      <td>2000-03-30</td>\n",
       "      <td>150.1562</td>\n",
       "      <td>151.9218</td>\n",
       "      <td>147.1250</td>\n",
       "      <td>148.6875</td>\n",
       "      <td>9491900</td>\n",
       "    </tr>\n",
       "    <tr>\n",
       "      <th>5029</th>\n",
       "      <td>2000-03-31</td>\n",
       "      <td>149.6250</td>\n",
       "      <td>152.3125</td>\n",
       "      <td>148.4375</td>\n",
       "      <td>150.3750</td>\n",
       "      <td>9249100</td>\n",
       "    </tr>\n",
       "    <tr>\n",
       "      <th>5028</th>\n",
       "      <td>2000-04-03</td>\n",
       "      <td>150.1250</td>\n",
       "      <td>151.2500</td>\n",
       "      <td>148.6875</td>\n",
       "      <td>151.2500</td>\n",
       "      <td>8508200</td>\n",
       "    </tr>\n",
       "    <tr>\n",
       "      <th>5027</th>\n",
       "      <td>2000-04-04</td>\n",
       "      <td>151.7500</td>\n",
       "      <td>153.0000</td>\n",
       "      <td>141.3906</td>\n",
       "      <td>150.1250</td>\n",
       "      <td>19585500</td>\n",
       "    </tr>\n",
       "  </tbody>\n",
       "</table>\n",
       "</div>"
      ],
      "text/plain": [
       "       timestamp      open      high       low     close    volume\n",
       "5031  2000-03-29  151.5625  152.4843  149.6562  151.2187   6747500\n",
       "5030  2000-03-30  150.1562  151.9218  147.1250  148.6875   9491900\n",
       "5029  2000-03-31  149.6250  152.3125  148.4375  150.3750   9249100\n",
       "5028  2000-04-03  150.1250  151.2500  148.6875  151.2500   8508200\n",
       "5027  2000-04-04  151.7500  153.0000  141.3906  150.1250  19585500"
      ]
     },
     "execution_count": 4,
     "metadata": {},
     "output_type": "execute_result"
    }
   ],
   "source": [
    "stonks = stonks.iloc[::-1]\n",
    "stonks.head()"
   ]
  },
  {
   "cell_type": "code",
   "execution_count": 5,
   "metadata": {},
   "outputs": [],
   "source": [
    "split_percent = 0.8\n",
    "val_percent = 0.1\n",
    "\n",
    "close_data = stonks.close.values.reshape((-1,1))\n",
    "\n",
    "split = int(split_percent*len(close_data))\n",
    "val = int((val_percent + split_percent) * len(close_data))\n",
    "close_train = close_data[:split]\n",
    "close_val = close_data[split:val]\n",
    "close_test = close_data[val:]\n",
    "\n",
    "date_train = stonks.timestamp[:split]\n",
    "date_val = stonks.timestamp[split:val]\n",
    "date_test = stonks.timestamp[val:]"
   ]
  },
  {
   "cell_type": "code",
   "execution_count": 6,
   "metadata": {},
   "outputs": [],
   "source": [
    "look_back = 20\n",
    "\n",
    "train_generator = keras.preprocessing.sequence.TimeseriesGenerator(close_train, close_train, length=look_back, batch_size=20)   \n",
    "val_generator = keras.preprocessing.sequence.TimeseriesGenerator(close_val, close_val, length=look_back, batch_size=10)     \n",
    "test_generator = keras.preprocessing.sequence.TimeseriesGenerator(close_test, close_test, length=look_back, batch_size=1)\n"
   ]
  },
  {
   "cell_type": "code",
   "execution_count": 7,
   "metadata": {},
   "outputs": [],
   "source": [
    "# for i in range(len(train_generator)):\n",
    "# \tx, y = test_generator[i]\n",
    "# \tprint('%s => %s' % (len(x[0]), y))"
   ]
  },
  {
   "cell_type": "code",
   "execution_count": 8,
   "metadata": {},
   "outputs": [],
   "source": [
    "model = keras.Sequential([\n",
    "    keras.layers.LSTM(40, activation=\"relu\", recurrent_activation=\"sigmoid\", use_bias=True, input_shape=(look_back, 1)),\n",
    "    keras.layers.Dense(1)\n",
    "])\n",
    "model.compile(optimizer=\"adam\", loss=\"mse\")\n",
    "\n",
    "num_epochs = 10"
   ]
  },
  {
   "cell_type": "code",
   "execution_count": 9,
   "metadata": {},
   "outputs": [
    {
     "name": "stdout",
     "output_type": "stream",
     "text": [
      "WARNING:tensorflow:sample_weight modes were coerced from\n",
      "  ...\n",
      "    to  \n",
      "  ['...']\n",
      "WARNING:tensorflow:sample_weight modes were coerced from\n",
      "  ...\n",
      "    to  \n",
      "  ['...']\n",
      "Train for 201 steps, validate for 49 steps\n",
      "Epoch 1/10\n",
      "201/201 [==============================] - 3s 14ms/step - loss: 7870.3074 - val_loss: 30204.9111\n",
      "Epoch 2/10\n",
      "201/201 [==============================] - 2s 10ms/step - loss: 8071.0297 - val_loss: 29859.4001\n",
      "Epoch 3/10\n",
      "201/201 [==============================] - 2s 9ms/step - loss: 7332.1704 - val_loss: 23481.3939\n",
      "Epoch 4/10\n",
      "201/201 [==============================] - 2s 9ms/step - loss: 4397.5848 - val_loss: 9929.3922\n",
      "Epoch 5/10\n",
      "201/201 [==============================] - 2s 10ms/step - loss: 325.3641 - val_loss: 15.0114\n",
      "Epoch 6/10\n",
      "201/201 [==============================] - 2s 9ms/step - loss: 7.8557 - val_loss: 13.2017\n",
      "Epoch 7/10\n",
      "201/201 [==============================] - 2s 9ms/step - loss: 4.2586 - val_loss: 5.9692\n",
      "Epoch 8/10\n",
      "201/201 [==============================] - 2s 10ms/step - loss: 3.9236 - val_loss: 6.0838\n",
      "Epoch 9/10\n",
      "201/201 [==============================] - 2s 9ms/step - loss: 3.4063 - val_loss: 5.5965\n",
      "Epoch 10/10\n",
      "201/201 [==============================] - 2s 9ms/step - loss: 3.7163 - val_loss: 6.3062\n"
     ]
    },
    {
     "data": {
      "text/plain": [
       "<tensorflow.python.keras.callbacks.History at 0x7f2ad8119d30>"
      ]
     },
     "execution_count": 9,
     "metadata": {},
     "output_type": "execute_result"
    }
   ],
   "source": [
    "model.fit(train_generator, epochs=num_epochs, verbose=1, validation_data=val_generator)"
   ]
  },
  {
   "cell_type": "code",
   "execution_count": 15,
   "metadata": {},
   "outputs": [],
   "source": [
    "prediction = model.predict(test_generator)\n",
    "\n",
    "close_train = close_train.reshape((-1))\n",
    "close_val = close_val.reshape((-1))\n",
    "close_test = close_test.reshape((-1))\n",
    "prediction = prediction.reshape((-1))\n",
    "\n",
    "prediction = np.concatenate([[None] * look_back, prediction])\n",
    "\n",
    "trace1 = go.Scatter(\n",
    "    x = np.concatenate([date_train, date_val]),\n",
    "    y = np.concatenate([close_train, close_val]),\n",
    "    mode = 'lines',\n",
    "    name = 'Real Data - trained'\n",
    ")\n",
    "trace2 = go.Scatter(\n",
    "    x = date_test,\n",
    "    y = prediction,\n",
    "    mode = 'lines',\n",
    "    name = 'Prediction'\n",
    ")\n",
    "trace3 = go.Scatter(\n",
    "    x = date_test,\n",
    "    y = close_test,\n",
    "    mode='lines',\n",
    "    name = 'Real Data - untrained'\n",
    ")\n",
    "layout = go.Layout(\n",
    "    title = \"Google Stock\",\n",
    "    xaxis = {'title' : \"Date\"},\n",
    "    yaxis = {'title' : \"Close\"}\n",
    ")\n",
    "fig = go.Figure(data=[trace1, trace2, trace3], layout=layout)\n",
    "fig.show(renderer=\"browser\")\n"
   ]
  },
  {
   "cell_type": "code",
   "execution_count": 14,
   "metadata": {},
   "outputs": [],
   "source": [
    "close_data = close_data.reshape((-1))\n",
    "\n",
    "def predict(num_prediction, before_lookback, model):\n",
    "    prediction_list = close_data[-look_back - before_lookback:-before_lookback]\n",
    "    \n",
    "    for _ in range(num_prediction):\n",
    "        x = prediction_list[-look_back:]\n",
    "        x = x.reshape((1, look_back, 1))\n",
    "        out = model.predict(x)[0][0]\n",
    "        prediction_list = np.append(prediction_list, out)\n",
    "    prediction_list = prediction_list[look_back-1:]\n",
    "        \n",
    "    return prediction_list\n",
    "    \n",
    "def predict_dates(num_prediction, before_lookback):\n",
    "    last_date = stonks.timestamp.values[-1 - before_lookback]\n",
    "    prediction_dates = pd.date_range(last_date, periods=num_prediction+1+before_lookback).tolist()\n",
    "    return prediction_dates\n",
    "\n",
    "num_prediction = 30\n",
    "before_lookback = 5\n",
    "forecast = predict(num_prediction, before_lookback, model)\n",
    "forecast_dates = predict_dates(num_prediction, before_lookback)\n",
    "\n",
    "close_train = close_train.reshape((-1))\n",
    "close_test = close_test.reshape((-1))\n",
    "\n",
    "trace1 = go.Scatter(\n",
    "    x = date_train,\n",
    "    y = close_train,\n",
    "    mode = 'lines',\n",
    "    name = 'Data'\n",
    ")\n",
    "trace2 = go.Scatter(\n",
    "    x = forecast_dates,\n",
    "    y = forecast,\n",
    "    mode = 'lines',\n",
    "    name = 'Prediction'\n",
    ")\n",
    "trace3 = go.Scatter(\n",
    "    x = date_test,\n",
    "    y = close_test,\n",
    "    mode='lines',\n",
    "    name = 'Ground Truth'\n",
    ")\n",
    "layout = go.Layout(\n",
    "    title = \"SPY\",\n",
    "    xaxis = {'title' : \"Date\"},\n",
    "    yaxis = {'title' : \"Close\"}\n",
    ")\n",
    "fig = go.Figure(data=[trace1, trace2, trace3], layout=layout)\n",
    "fig.show(renderer=\"browser\")\n"
   ]
  },
  {
   "cell_type": "code",
   "execution_count": null,
   "metadata": {},
   "outputs": [],
   "source": []
  }
 ],
 "metadata": {
  "kernelspec": {
   "display_name": "Python 3",
   "language": "python",
   "name": "python3"
  },
  "language_info": {
   "codemirror_mode": {
    "name": "ipython",
    "version": 3
   },
   "file_extension": ".py",
   "mimetype": "text/x-python",
   "name": "python",
   "nbconvert_exporter": "python",
   "pygments_lexer": "ipython3",
   "version": "3.7.3"
  }
 },
 "nbformat": 4,
 "nbformat_minor": 4
}
